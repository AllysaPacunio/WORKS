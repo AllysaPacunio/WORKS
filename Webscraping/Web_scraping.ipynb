{
  "nbformat": 4,
  "nbformat_minor": 0,
  "metadata": {
    "colab": {
      "provenance": []
    },
    "kernelspec": {
      "name": "python3",
      "display_name": "Python 3"
    },
    "language_info": {
      "name": "python"
    }
  },
  "cells": [
    {
      "cell_type": "code",
      "execution_count": null,
      "metadata": {
        "id": "h_o06ifMWekU"
      },
      "outputs": [],
      "source": [
        "import requests\n",
        "import re\n",
        "import nltk\n",
        "from nltk.sentiment import SentimentIntensityAnalyzer\n",
        "\n",
        "a = []\n",
        "b = {}\n",
        "\n",
        "target_url = 'https://www.amazon.com/dp/B09BF64J55/ref=sspa_dk_detail_3?pd_rd_i=B09BF64J55&pd_rd_w=LJS3f&content-id=amzn1.sym.0d1092dc-81bb-493f-8769-d5c802257e94&pf_rd_p=0d1092dc-81bb-493f-8769-d5c802257e94&pf_rd_r=JESFM6A4597BAXYFT0A8&pd_rd_wg=KipGp&pd_rd_r=de225793-e470-48f9-a6aa-cf302e1ae8c9&s=wireless&sp_csd=d2lkZ2V0TmFtZT1zcF9kZXRhaWwy&th=1'\n",
        "\n",
        "headers = {\n",
        "    \"accept-language\":\n",
        "    \"en-US,en;q=0.9\",\n",
        "    \"accept-encoding\":\n",
        "    \"gzip, deflate, br\",\n",
        "    \"User-Agent\":\n",
        "    \"Mozilla/5.0 (Windows NT 6.1; Win64; x64) AppleWebKit/537.36 (KHTML, like Gecko) Chrome/109.0.0.0 Safari/537.36 Edg/109.0.1518.140\",\n",
        "    \"accept\":\n",
        "    \"text/html,application/xhtml+xml,application/xml;q=0.9,image/avif,image/webp,image/apng,*/*;q=0.8,application/signed-exchange;v=b3;q=0.7\"\n",
        "}\n",
        "\n",
        "response = requests.get(target_url, headers=headers)\n",
        "\n",
        "html_content = response.text\n",
        "\n",
        "comment_pattern = r'<div data-hook=\"review-collapsed\" aria-expanded=\"false\" class=\"a-expander-content reviewText review-text-content a-expander-partial-collapse-content\">\\s+<span>(.*?)<\\/span>'\n",
        "\n",
        "comments = re.findall(comment_pattern, html_content)\n",
        "\n",
        "for i in range(len(comments)):\n",
        "  b['User'] = comments[i]\n",
        "  a.append(b)\n",
        "  b = {}\n",
        "\n",
        "# nltk.download('vader_lexicon')\n",
        "\n",
        "sentiment_analysis = SentimentIntensityAnalyzer()\n",
        "\n",
        "for product_review in a:\n",
        "  for user, review in product_review.items():\n",
        "    score= sentiment_analysis.polarity_scores(f\"{review}\")\n",
        "\n",
        "    for classification, value in score.items():\n",
        "      if classification == \"neg\":\n",
        "        neg = round(1 * value,3)\n",
        "\n",
        "      if classification == \"neu\":\n",
        "        neu = round(3 * value,3)\n",
        "\n",
        "      if classification == \"pos\":\n",
        "        pos = round(5 * value,3)\n",
        "\n",
        "    total_stars = round(neg + neu + pos,1)\n",
        "\n",
        "\n",
        "    print(f\" Review: {review}\\n Rating:  {total_stars} out of 5 stars\\n\")\n",
        "\n",
        "\n",
        "\n",
        "\n",
        "\n",
        "\n",
        "\n",
        "\n",
        "\n",
        "\n",
        "\n",
        "\n",
        "\n",
        "\n"
      ]
    },
    {
      "cell_type": "code",
      "source": [
        "\n"
      ],
      "metadata": {
        "colab": {
          "base_uri": "https://localhost:8080/"
        },
        "id": "P9M9s8-o38AH",
        "outputId": "7579a8d0-59a7-4174-8635-37e9a18aaa0f"
      },
      "execution_count": null,
      "outputs": [
        {
          "output_type": "stream",
          "name": "stdout",
          "text": [
            "200\n",
            "{'price': None}\n"
          ]
        }
      ]
    }
  ]
}